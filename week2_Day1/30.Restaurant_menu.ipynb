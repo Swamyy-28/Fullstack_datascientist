{
 "cells": [
  {
   "cell_type": "code",
   "execution_count": 1,
   "id": "c3894d8c",
   "metadata": {},
   "outputs": [
    {
     "name": "stdout",
     "output_type": "stream",
     "text": [
      "Burger added\n",
      "Pizza added\n",
      "Pizza price updated to 250\n",
      "Burger removed\n",
      "Menu: {'Pizza': 250}\n"
     ]
    }
   ],
   "source": [
    "class Menu:\n",
    "    def __init__(self): self.items={}\n",
    "\n",
    "    def add_item(self,name,price):\n",
    "        self.items[name]=price\n",
    "        return f\"{name} added\"\n",
    "\n",
    "    def remove_item(self,name):\n",
    "        self.items.pop(name,None)\n",
    "        return f\"{name} removed\"\n",
    "\n",
    "    def update_price(self,name,new_price):\n",
    "        if name in self.items:\n",
    "            self.items[name]=new_price\n",
    "            return f\"{name} price updated to {new_price}\"\n",
    "        return \"Item not found\"\n",
    "\n",
    "    def show_menu(self):\n",
    "        print(\"Menu:\",self.items)\n",
    "\n",
    "menu=Menu()\n",
    "print(menu.add_item(\"Burger\",100))\n",
    "print(menu.add_item(\"Pizza\",200))\n",
    "print(menu.update_price(\"Pizza\",250))\n",
    "print(menu.remove_item(\"Burger\"))\n",
    "menu.show_menu()\n"
   ]
  }
 ],
 "metadata": {
  "kernelspec": {
   "display_name": "Python 3",
   "language": "python",
   "name": "python3"
  },
  "language_info": {
   "codemirror_mode": {
    "name": "ipython",
    "version": 3
   },
   "file_extension": ".py",
   "mimetype": "text/x-python",
   "name": "python",
   "nbconvert_exporter": "python",
   "pygments_lexer": "ipython3",
   "version": "3.10.18"
  }
 },
 "nbformat": 4,
 "nbformat_minor": 5
}
