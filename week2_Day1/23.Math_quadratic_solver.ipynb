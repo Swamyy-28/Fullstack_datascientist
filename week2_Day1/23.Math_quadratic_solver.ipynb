{
 "cells": [
  {
   "cell_type": "code",
   "execution_count": 1,
   "id": "a7bc4202",
   "metadata": {},
   "outputs": [
    {
     "name": "stdout",
     "output_type": "stream",
     "text": [
      "Roots are: (2.0, 1.0)\n"
     ]
    }
   ],
   "source": [
    "import math\n",
    "\n",
    "def quadratic(a,b,c):\n",
    "    d = b**2 - 4*a*c\n",
    "    r1 = (-b + math.sqrt(d))/(2*a)\n",
    "    r2 = (-b - math.sqrt(d))/(2*a)\n",
    "    return r1, r2\n",
    "\n",
    "print(\"Roots are:\", quadratic(1,-3,2))\n"
   ]
  }
 ],
 "metadata": {
  "kernelspec": {
   "display_name": "Python 3",
   "language": "python",
   "name": "python3"
  },
  "language_info": {
   "codemirror_mode": {
    "name": "ipython",
    "version": 3
   },
   "file_extension": ".py",
   "mimetype": "text/x-python",
   "name": "python",
   "nbconvert_exporter": "python",
   "pygments_lexer": "ipython3",
   "version": "3.10.18"
  }
 },
 "nbformat": 4,
 "nbformat_minor": 5
}
