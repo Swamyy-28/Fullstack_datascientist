{
 "cells": [
  {
   "cell_type": "code",
   "execution_count": null,
   "id": "07ef7249",
   "metadata": {},
   "outputs": [],
   "source": [
    "\n",
    "import math\n",
    "\n",
    "def calculator(expression):\n",
    "    if expression.startswith(\"sqrt(\"):\n",
    "        num = float(expression[5:-1])\n",
    "        return math.sqrt(num)\n",
    "    elif expression.startswith(\"factorial(\"):\n",
    "        num = int(expression[10:-1])\n",
    "        return math.factorial(num)\n",
    "    elif expression.startswith(\"sin(\"):\n",
    "        num = float(expression[4:-1])\n",
    "        return math.sin(math.radians(num))  \n",
    "    elif expression.startswith(\"cos(\"):\n",
    "        num = float(expression[4:-1])\n",
    "        return math.cos(math.radians(num))\n",
    "        return \"Invalid expression\"\n",
    "\n",
    "print(calculator(\"sqrt(25)\"))       \n",
    "print(calculator(\"factorial(5)\"))   \n",
    "print(calculator(\"sin(30)\"))       \n",
    "print(calculator(\"cos(60)\"))        \n"
   ]
  }
 ],
 "metadata": {
  "language_info": {
   "name": "python"
  }
 },
 "nbformat": 4,
 "nbformat_minor": 5
}
