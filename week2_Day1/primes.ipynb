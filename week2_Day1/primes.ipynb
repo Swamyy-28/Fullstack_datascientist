{
 "cells": [
  {
   "cell_type": "code",
   "execution_count": 3,
   "id": "9ae5f97f",
   "metadata": {},
   "outputs": [
    {
     "name": "stdout",
     "output_type": "stream",
     "text": [
      "[2, 3, 5, 7, 11, 13, 17, 19]\n"
     ]
    }
   ],
   "source": [
    "def prime_nums(n):\n",
    "    primes=[]\n",
    "    for i in range(2,n):\n",
    "        is_prime=True\n",
    "        for j in range(2,int(i**0.5)+1):\n",
    "            if i%j==0:\n",
    "                is_prime=False\n",
    "                break\n",
    "        if is_prime:\n",
    "            primes.append(i)\n",
    "    return primes\n",
    "\n",
    "print(prime_nums(20))\n"
   ]
  }
 ],
 "metadata": {
  "kernelspec": {
   "display_name": "Python 3",
   "language": "python",
   "name": "python3"
  },
  "language_info": {
   "codemirror_mode": {
    "name": "ipython",
    "version": 3
   },
   "file_extension": ".py",
   "mimetype": "text/x-python",
   "name": "python",
   "nbconvert_exporter": "python",
   "pygments_lexer": "ipython3",
   "version": "3.11.0"
  }
 },
 "nbformat": 4,
 "nbformat_minor": 5
}
