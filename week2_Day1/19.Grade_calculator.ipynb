{
 "cells": [
  {
   "cell_type": "code",
   "execution_count": 1,
   "id": "e5db4926",
   "metadata": {},
   "outputs": [
    {
     "name": "stdout",
     "output_type": "stream",
     "text": [
      "Grade: A\n"
     ]
    }
   ],
   "source": [
    "def grade(marks):\n",
    "    avg = sum(marks)/len(marks)\n",
    "    if avg >= 90: return \"Grade: A+\"\n",
    "    elif avg >= 80: return \"Grade: A\"\n",
    "    elif avg >= 70: return \"Grade: B\"\n",
    "    elif avg >= 60: return \"Grade: C\"\n",
    "    else: return \"Grade: F\"\n",
    "\n",
    "print(grade([85, 90, 78]))\n"
   ]
  }
 ],
 "metadata": {
  "kernelspec": {
   "display_name": "Python 3",
   "language": "python",
   "name": "python3"
  },
  "language_info": {
   "codemirror_mode": {
    "name": "ipython",
    "version": 3
   },
   "file_extension": ".py",
   "mimetype": "text/x-python",
   "name": "python",
   "nbconvert_exporter": "python",
   "pygments_lexer": "ipython3",
   "version": "3.10.18"
  }
 },
 "nbformat": 4,
 "nbformat_minor": 5
}
