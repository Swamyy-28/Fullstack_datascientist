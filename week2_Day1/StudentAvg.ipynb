{
 "cells": [
  {
   "cell_type": "code",
   "execution_count": null,
   "id": "163c3978",
   "metadata": {},
   "outputs": [],
   "source": [
    "class Student:\n",
    "    def __init__(self, name, marks):\n",
    "        self.name = name\n",
    "        self.marks = marks\n",
    "\n",
    "    def get_average(self):\n",
    "        return sum(self.marks) / len(self.marks)\n",
    "\n",
    "    def add_mark(self, mark):\n",
    "        self.marks.append(mark)\n",
    "\n",
    "    def get_highest(self):\n",
    "        return max(self.marks)\n",
    "\n",
    "    def get_lowest(self):\n",
    "        return min(self.marks)\n",
    "\n",
    "s = Student(\"Tom\", [90, 80, 85])\n",
    "print(s.get_average())   \n",
    "s.add_mark(95)\n",
    "print(s.get_highest())  "
   ]
  }
 ],
 "metadata": {
  "language_info": {
   "name": "python"
  }
 },
 "nbformat": 4,
 "nbformat_minor": 5
}
