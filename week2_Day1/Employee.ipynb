{
 "cells": [
  {
   "cell_type": "code",
   "execution_count": null,
   "id": "78cc6ba3",
   "metadata": {},
   "outputs": [],
   "source": [
    "class Employee:\n",
    "    def __init__(self, name, salary, role):\n",
    "        self.name = name\n",
    "        self.salary = salary\n",
    "        self.role = role\n",
    "\n",
    "    def bonus(self):\n",
    "        if self.role.lower() == \"manager\":\n",
    "            return self.salary * 0.20\n",
    "        elif self.role.lower() == \"developer\":\n",
    "            return self.salary * 0.10\n",
    "        elif self.role.lower() == \"intern\":\n",
    "            return self.salary * 0.05\n",
    "        else:\n",
    "            return 0\n",
    "\n",
    "m = Employee(\"Alice\", 50000, \"Manager\")\n",
    "print(m.bonus())   \n"
   ]
  }
 ],
 "metadata": {
  "language_info": {
   "name": "python"
  }
 },
 "nbformat": 4,
 "nbformat_minor": 5
}
