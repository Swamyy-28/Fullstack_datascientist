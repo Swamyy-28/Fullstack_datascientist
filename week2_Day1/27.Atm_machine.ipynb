{
 "cells": [
  {
   "cell_type": "code",
   "execution_count": 1,
   "id": "499e3ac6",
   "metadata": {},
   "outputs": [
    {
     "name": "stdout",
     "output_type": "stream",
     "text": [
      "Access Granted\n",
      "Deposited 200\n",
      "Withdrew 100\n",
      "Balance: 600\n"
     ]
    }
   ],
   "source": [
    "class ATM:\n",
    "    def __init__(self,pin,balance):\n",
    "        self.pin=pin; self.balance=balance; self.is_authenticated=False\n",
    "\n",
    "    def login(self,p):\n",
    "        if p==self.pin:\n",
    "            self.is_authenticated=True\n",
    "            return \"Access Granted\"\n",
    "        return \"Access Denied\"\n",
    "\n",
    "    def check_balance(self):\n",
    "        return f\"Balance: {self.balance}\"\n",
    "\n",
    "    def deposit(self,amount):\n",
    "        self.balance+=amount\n",
    "        return f\"Deposited {amount}\"\n",
    "\n",
    "    def withdraw(self,amount):\n",
    "        if amount<=self.balance:\n",
    "            self.balance-=amount\n",
    "            return f\"Withdrew {amount}\"\n",
    "        return \"Insufficient funds\"\n",
    "\n",
    "atm=ATM(1234,500)\n",
    "print(atm.login(1234))\n",
    "print(atm.deposit(200))\n",
    "print(atm.withdraw(100))\n",
    "print(atm.check_balance())\n"
   ]
  }
 ],
 "metadata": {
  "kernelspec": {
   "display_name": "Python 3",
   "language": "python",
   "name": "python3"
  },
  "language_info": {
   "codemirror_mode": {
    "name": "ipython",
    "version": 3
   },
   "file_extension": ".py",
   "mimetype": "text/x-python",
   "name": "python",
   "nbconvert_exporter": "python",
   "pygments_lexer": "ipython3",
   "version": "3.10.18"
  }
 },
 "nbformat": 4,
 "nbformat_minor": 5
}
