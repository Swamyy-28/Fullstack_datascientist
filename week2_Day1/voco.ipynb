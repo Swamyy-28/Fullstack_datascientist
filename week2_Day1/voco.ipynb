{
 "cells": [
  {
   "cell_type": "code",
   "execution_count": 7,
   "id": "a16b4183",
   "metadata": {},
   "outputs": [
    {
     "name": "stdout",
     "output_type": "stream",
     "text": [
      "vowel 2\n",
      "cons 3\n"
     ]
    }
   ],
   "source": [
    "def count(str):\n",
    "    c=0\n",
    "    v=0\n",
    "    str=str.strip().lower()\n",
    "    ch='AEIOUaeiou'\n",
    "    for char in str:\n",
    "        if char.isalpha(): \n",
    "            if char in ch:\n",
    "                v+= 1\n",
    "            else:\n",
    "                c+= 1\n",
    "    print(\"vowel\",v)\n",
    "    print(\"cons\",c)\n",
    "count(\"Hello\")\n"
   ]
  }
 ],
 "metadata": {
  "kernelspec": {
   "display_name": "Python 3",
   "language": "python",
   "name": "python3"
  },
  "language_info": {
   "codemirror_mode": {
    "name": "ipython",
    "version": 3
   },
   "file_extension": ".py",
   "mimetype": "text/x-python",
   "name": "python",
   "nbconvert_exporter": "python",
   "pygments_lexer": "ipython3",
   "version": "3.11.0"
  }
 },
 "nbformat": 4,
 "nbformat_minor": 5
}
