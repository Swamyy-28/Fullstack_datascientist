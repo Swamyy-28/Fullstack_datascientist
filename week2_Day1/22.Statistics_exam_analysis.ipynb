{
 "cells": [
  {
   "cell_type": "code",
   "execution_count": 1,
   "id": "b23d0a16",
   "metadata": {},
   "outputs": [
    {
     "name": "stdout",
     "output_type": "stream",
     "text": [
      "Mean = 87.86\n",
      "Median = 90\n",
      "Variance = 73.81\n"
     ]
    }
   ],
   "source": [
    "import statistics\n",
    "\n",
    "scores = [75, 80, 90, 100, 85, 90, 95]\n",
    "print(\"Mean =\", round(statistics.mean(scores),2))\n",
    "print(\"Median =\", statistics.median(scores))\n",
    "print(\"Variance =\", round(statistics.variance(scores),2))\n"
   ]
  }
 ],
 "metadata": {
  "kernelspec": {
   "display_name": "Python 3",
   "language": "python",
   "name": "python3"
  },
  "language_info": {
   "codemirror_mode": {
    "name": "ipython",
    "version": 3
   },
   "file_extension": ".py",
   "mimetype": "text/x-python",
   "name": "python",
   "nbconvert_exporter": "python",
   "pygments_lexer": "ipython3",
   "version": "3.10.18"
  }
 },
 "nbformat": 4,
 "nbformat_minor": 5
}
