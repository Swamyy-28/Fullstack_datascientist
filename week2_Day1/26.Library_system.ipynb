{
 "cells": [
  {
   "cell_type": "code",
   "execution_count": 1,
   "id": "804d2358",
   "metadata": {},
   "outputs": [
    {
     "name": "stdout",
     "output_type": "stream",
     "text": [
      "You borrowed Python 101\n",
      "You returned Python 101\n",
      "Available books: {'Python 101': 3, 'Data Science': 2}\n"
     ]
    }
   ],
   "source": [
    "class Library:\n",
    "    def __init__(self, books): self.books = books\n",
    "\n",
    "    def borrow(self, title):\n",
    "        if self.books.get(title,0) > 0:\n",
    "            self.books[title]-=1\n",
    "            return f\"You borrowed {title}\"\n",
    "        return \"Not available\"\n",
    "\n",
    "    def return_book(self,title):\n",
    "        self.books[title]=self.books.get(title,0)+1\n",
    "        return f\"You returned {title}\"\n",
    "\n",
    "    def show_books(self):\n",
    "        print(\"Available books:\",self.books)\n",
    "\n",
    "lib = Library({\"Python 101\":3,\"Data Science\":2})\n",
    "print(lib.borrow(\"Python 101\"))\n",
    "print(lib.return_book(\"Python 101\"))\n",
    "lib.show_books()\n"
   ]
  }
 ],
 "metadata": {
  "kernelspec": {
   "display_name": "Python 3",
   "language": "python",
   "name": "python3"
  },
  "language_info": {
   "codemirror_mode": {
    "name": "ipython",
    "version": 3
   },
   "file_extension": ".py",
   "mimetype": "text/x-python",
   "name": "python",
   "nbconvert_exporter": "python",
   "pygments_lexer": "ipython3",
   "version": "3.10.18"
  }
 },
 "nbformat": 4,
 "nbformat_minor": 5
}
