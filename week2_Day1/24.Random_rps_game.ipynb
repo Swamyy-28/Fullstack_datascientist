{
 "cells": [
  {
   "cell_type": "code",
   "execution_count": 1,
   "id": "c6457b0b",
   "metadata": {},
   "outputs": [
    {
     "name": "stdout",
     "output_type": "stream",
     "text": [
      "You chose Rock, Computer chose Rock\n",
      "Draw!\n"
     ]
    }
   ],
   "source": [
    "import random\n",
    "\n",
    "def rps(user):\n",
    "    choices = [\"Rock\", \"Paper\", \"Scissors\"]\n",
    "    comp = random.choice(choices)\n",
    "    print(f\"You chose {user}, Computer chose {comp}\")\n",
    "    if user == comp:\n",
    "        return \"Draw!\"\n",
    "    if (user==\"Rock\" and comp==\"Scissors\") or (user==\"Scissors\" and comp==\"Paper\") or (user==\"Paper\" and comp==\"Rock\"):\n",
    "        return \"You Win!\"\n",
    "    return \"You Lose!\"\n",
    "\n",
    "print(rps(\"Rock\"))\n"
   ]
  }
 ],
 "metadata": {
  "kernelspec": {
   "display_name": "Python 3",
   "language": "python",
   "name": "python3"
  },
  "language_info": {
   "codemirror_mode": {
    "name": "ipython",
    "version": 3
   },
   "file_extension": ".py",
   "mimetype": "text/x-python",
   "name": "python",
   "nbconvert_exporter": "python",
   "pygments_lexer": "ipython3",
   "version": "3.10.18"
  }
 },
 "nbformat": 4,
 "nbformat_minor": 5
}
