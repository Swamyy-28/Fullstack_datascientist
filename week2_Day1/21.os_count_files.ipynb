{
 "cells": [
  {
   "cell_type": "code",
   "execution_count": 1,
   "id": "94c42624",
   "metadata": {},
   "outputs": [
    {
     "name": "stdout",
     "output_type": "stream",
     "text": [
      "Text files: 2\n",
      "Python files: 2\n"
     ]
    }
   ],
   "source": [
    "import os\n",
    "\n",
    "files = [\"notes.txt\", \"app.py\", \"data.csv\", \"report.txt\", \"main.py\"]\n",
    "txt = sum(1 for f in files if f.endswith(\".txt\"))\n",
    "py = sum(1 for f in files if f.endswith(\".py\"))\n",
    "\n",
    "print(\"Text files:\", txt)\n",
    "print(\"Python files:\", py)\n"
   ]
  }
 ],
 "metadata": {
  "kernelspec": {
   "display_name": "Python 3",
   "language": "python",
   "name": "python3"
  },
  "language_info": {
   "codemirror_mode": {
    "name": "ipython",
    "version": 3
   },
   "file_extension": ".py",
   "mimetype": "text/x-python",
   "name": "python",
   "nbconvert_exporter": "python",
   "pygments_lexer": "ipython3",
   "version": "3.10.18"
  }
 },
 "nbformat": 4,
 "nbformat_minor": 5
}
