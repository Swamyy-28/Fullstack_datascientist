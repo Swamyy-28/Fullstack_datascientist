{
 "cells": [
  {
   "cell_type": "code",
   "execution_count": 2,
   "id": "3b6ed88c",
   "metadata": {},
   "outputs": [
    {
     "name": "stdout",
     "output_type": "stream",
     "text": [
      "True\n"
     ]
    }
   ],
   "source": [
    "def Anagram(str1,str2):\n",
    "    str1=str1.strip().lower()\n",
    "    str2=str2.strip().lower()\n",
    "    return sorted(str1)==sorted(str2)\n",
    "print(Anagram(\"listen\",\"silent\"))"
   ]
  }
 ],
 "metadata": {
  "kernelspec": {
   "display_name": "Python 3",
   "language": "python",
   "name": "python3"
  },
  "language_info": {
   "codemirror_mode": {
    "name": "ipython",
    "version": 3
   },
   "file_extension": ".py",
   "mimetype": "text/x-python",
   "name": "python",
   "nbconvert_exporter": "python",
   "pygments_lexer": "ipython3",
   "version": "3.11.0"
  }
 },
 "nbformat": 4,
 "nbformat_minor": 5
}
