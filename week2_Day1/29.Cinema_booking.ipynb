{
 "cells": [
  {
   "cell_type": "code",
   "execution_count": 1,
   "id": "03ac17e9",
   "metadata": {},
   "outputs": [
    {
     "name": "stdout",
     "output_type": "stream",
     "text": [
      "Booked 2 tickets for Avatar\n",
      "Cancelled 1 ticket for Avatar\n",
      "Movies: {'Avatar': 9, 'Batman': 5}\n"
     ]
    }
   ],
   "source": [
    "class Cinema:\n",
    "    def __init__(self,movies): self.movies=movies\n",
    "\n",
    "    def book(self,movie,seats):\n",
    "        if self.movies.get(movie,0)>=seats:\n",
    "            self.movies[movie]-=seats\n",
    "            return f\"Booked {seats} tickets for {movie}\"\n",
    "        return \"Not enough seats\"\n",
    "\n",
    "    def cancel(self,movie,seats):\n",
    "        self.movies[movie]=self.movies.get(movie,0)+seats\n",
    "        return f\"Cancelled {seats} ticket for {movie}\"\n",
    "\n",
    "    def show_movies(self):\n",
    "        print(\"Movies:\",self.movies)\n",
    "\n",
    "cinema=Cinema({\"Avatar\":10,\"Batman\":5})\n",
    "print(cinema.book(\"Avatar\",2))\n",
    "print(cinema.cancel(\"Avatar\",1))\n",
    "cinema.show_movies()\n"
   ]
  }
 ],
 "metadata": {
  "kernelspec": {
   "display_name": "Python 3",
   "language": "python",
   "name": "python3"
  },
  "language_info": {
   "codemirror_mode": {
    "name": "ipython",
    "version": 3
   },
   "file_extension": ".py",
   "mimetype": "text/x-python",
   "name": "python",
   "nbconvert_exporter": "python",
   "pygments_lexer": "ipython3",
   "version": "3.10.18"
  }
 },
 "nbformat": 4,
 "nbformat_minor": 5
}
