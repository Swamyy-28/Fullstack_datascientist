{
 "cells": [
  {
   "cell_type": "code",
   "execution_count": null,
   "id": "efdfb79c",
   "metadata": {},
   "outputs": [],
   "source": [
    "import random\n",
    "\n",
    "def weather_simulator():\n",
    "    weathers = [\"Sunny\", \"Rainy\", \"Cloudy\", \"Windy\", \"Stormy\"]\n",
    "    temp = random.randint(20, 40) \n",
    "    weather = random.choice(weathers)\n",
    "    return f\"Weather: {weather}, Temp: {temp}°C\"\n",
    "\n",
    "print(weather_simulator())\n"
   ]
  }
 ],
 "metadata": {
  "language_info": {
   "name": "python"
  }
 },
 "nbformat": 4,
 "nbformat_minor": 5
}
