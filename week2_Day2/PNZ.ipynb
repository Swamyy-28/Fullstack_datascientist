{
 "cells": [
  {
   "cell_type": "code",
   "execution_count": null,
   "id": "2b7f777f",
   "metadata": {},
   "outputs": [],
   "source": [
    "nums = [10, -5, 0, 3, -2, 0, 8]\n",
    "pos = neg = zero = 0\n",
    "\n",
    "for n in nums:\n",
    "    if n > 0:\n",
    "        pos += 1\n",
    "    elif n < 0:\n",
    "        neg += 1\n",
    "    else:\n",
    "        zero += 1\n",
    "\n",
    "print(\"Positive:\", pos, \"Negative:\", neg, \"Zero:\", zero)\n"
   ]
  }
 ],
 "metadata": {
  "language_info": {
   "name": "python"
  }
 },
 "nbformat": 4,
 "nbformat_minor": 5
}
