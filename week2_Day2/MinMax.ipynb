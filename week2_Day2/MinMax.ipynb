{
 "cells": [
  {
   "cell_type": "code",
   "execution_count": null,
   "id": "42ce0380",
   "metadata": {},
   "outputs": [],
   "source": [
    "def find_min_max(lst):\n",
    "    return min(lst), max(lst)\n",
    "\n",
    "nums = [10, 3, 45, 6, 21]\n",
    "print(\"Smallest & Largest:\", find_min_max(nums))\n"
   ]
  }
 ],
 "metadata": {
  "language_info": {
   "name": "python"
  }
 },
 "nbformat": 4,
 "nbformat_minor": 5
}
