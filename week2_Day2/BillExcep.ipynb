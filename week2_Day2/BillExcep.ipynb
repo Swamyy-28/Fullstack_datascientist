{
 "cells": [
  {
   "cell_type": "code",
   "execution_count": null,
   "id": "39b56eb6",
   "metadata": {},
   "outputs": [],
   "source": [
    "try:\n",
    "    price = float(input(\"Enter item price: \"))\n",
    "    qty = int(input(\"Enter quantity: \"))\n",
    "    total = price * qty\n",
    "    print(\"Total Price: ₹\", total)\n",
    "except ValueError:\n",
    "    print(\"Invalid input! Please enter numbers.\")\n",
    "finally:\n",
    "    print(\"Bill processing finished ✅\")\n"
   ]
  }
 ],
 "metadata": {
  "language_info": {
   "name": "python"
  }
 },
 "nbformat": 4,
 "nbformat_minor": 5
}
