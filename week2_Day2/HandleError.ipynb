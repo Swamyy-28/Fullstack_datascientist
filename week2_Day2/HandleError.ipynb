{
 "cells": [
  {
   "cell_type": "code",
   "execution_count": null,
   "id": "e15257b9",
   "metadata": {},
   "outputs": [],
   "source": [
    "try:\n",
    "    a = int(input(\"Enter first number: \"))\n",
    "    b = int(input(\"Enter second number: \"))\n",
    "    print(\"Result:\", a / b)\n",
    "except ValueError:\n",
    "    print(\"Invalid input! Enter numbers only.\")\n",
    "except ZeroDivisionError:\n",
    "    print(\"Division by zero is not allowed!\")\n"
   ]
  }
 ],
 "metadata": {
  "language_info": {
   "name": "python"
  }
 },
 "nbformat": 4,
 "nbformat_minor": 5
}
