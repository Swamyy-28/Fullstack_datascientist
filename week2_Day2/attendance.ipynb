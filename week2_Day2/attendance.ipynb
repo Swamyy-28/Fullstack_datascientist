{
 "cells": [
  {
   "cell_type": "code",
   "execution_count": 1,
   "id": "5ebb984e",
   "metadata": {},
   "outputs": [
    {
     "name": "stdout",
     "output_type": "stream",
     "text": [
      "Defaulters: ['Ravi', 'Sneha']\n"
     ]
    }
   ],
   "source": [
    "def find_defaulters(attendance):\n",
    "    return [name for name, percent in attendance.items() if percent < 75]\n",
    "attendance = {\"Amit\": 80, \"Ravi\": 60, \"Sneha\": 74, \"Kiran\": 90}\n",
    "print(\"Defaulters:\", find_defaulters(attendance))\n"
   ]
  }
 ],
 "metadata": {
  "kernelspec": {
   "display_name": "Python 3",
   "language": "python",
   "name": "python3"
  },
  "language_info": {
   "codemirror_mode": {
    "name": "ipython",
    "version": 3
   },
   "file_extension": ".py",
   "mimetype": "text/x-python",
   "name": "python",
   "nbconvert_exporter": "python",
   "pygments_lexer": "ipython3",
   "version": "3.11.0"
  }
 },
 "nbformat": 4,
 "nbformat_minor": 5
}
