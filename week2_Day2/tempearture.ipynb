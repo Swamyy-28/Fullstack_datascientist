{
 "cells": [
  {
   "cell_type": "code",
   "execution_count": 3,
   "id": "46d79d6f",
   "metadata": {},
   "outputs": [
    {
     "name": "stdout",
     "output_type": "stream",
     "text": [
      "1 for cel 2 for fah\n",
      "Fahreinheit-= 120.60000000000001\n"
     ]
    }
   ],
   "source": [
    "def convert():\n",
    "    print(\"1 for cel 2 for fah\")\n",
    "    choice=input(\"Enter 1 or 2\")\n",
    "    if choice=='1':\n",
    "        fah=int(input(\"Enter fah\"))\n",
    "        print(\"celsius=\",(fah-32)*(5/9))\n",
    "    elif choice=='2':\n",
    "        cel=int(input(\"Enter celsius\"))\n",
    "        print(\"Fahreinheit-=\",(cel+32)*(9/5))\n",
    "    else:\n",
    "        return \"Invalid choice\"\n",
    "convert()\n",
    "        "
   ]
  }
 ],
 "metadata": {
  "kernelspec": {
   "display_name": "Python 3",
   "language": "python",
   "name": "python3"
  },
  "language_info": {
   "codemirror_mode": {
    "name": "ipython",
    "version": 3
   },
   "file_extension": ".py",
   "mimetype": "text/x-python",
   "name": "python",
   "nbconvert_exporter": "python",
   "pygments_lexer": "ipython3",
   "version": "3.11.0"
  }
 },
 "nbformat": 4,
 "nbformat_minor": 5
}
