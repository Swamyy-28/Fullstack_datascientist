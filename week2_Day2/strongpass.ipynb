{
 "cells": [
  {
   "cell_type": "code",
   "execution_count": 3,
   "id": "ea80e7bb",
   "metadata": {},
   "outputs": [
    {
     "name": "stdout",
     "output_type": "stream",
     "text": [
      "Strong password\n"
     ]
    }
   ],
   "source": [
    "import string\n",
    "def Strong_pass(pwd):\n",
    "    if(len(pwd)>8 and\n",
    "       any(c.islower() for c in pwd) and\n",
    "       any(c.isupper() for c in pwd) and\n",
    "       any(c.isdigit() for c in pwd) and\n",
    "       any(c in string.punctuation for c in pwd)):\n",
    "        return True\n",
    "    else:\n",
    "        return False\n",
    "\n",
    "pwd=input(\"Enter password\")\n",
    "if Strong_pass(pwd):\n",
    "    print(\"Strong password\")\n",
    "else:\n",
    "    print(\"Weak Password\")"
   ]
  }
 ],
 "metadata": {
  "kernelspec": {
   "display_name": "Python 3",
   "language": "python",
   "name": "python3"
  },
  "language_info": {
   "codemirror_mode": {
    "name": "ipython",
    "version": 3
   },
   "file_extension": ".py",
   "mimetype": "text/x-python",
   "name": "python",
   "nbconvert_exporter": "python",
   "pygments_lexer": "ipython3",
   "version": "3.11.0"
  }
 },
 "nbformat": 4,
 "nbformat_minor": 5
}
