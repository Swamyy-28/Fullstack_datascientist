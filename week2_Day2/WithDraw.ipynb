{
 "cells": [
  {
   "cell_type": "code",
   "execution_count": null,
   "id": "1dce2007",
   "metadata": {},
   "outputs": [],
   "source": [
    "class InsufficientBalance(Exception):\n",
    "    pass\n",
    "\n",
    "balance = 5000\n",
    "withdraw = int(input(\"Enter withdrawal amount: \"))\n",
    "\n",
    "try:\n",
    "    if withdraw > balance:\n",
    "        raise InsufficientBalance(\"Not enough balance!\")\n",
    "    else:\n",
    "        balance -= withdraw\n",
    "        print(\"Withdrawal successful. Remaining balance:\", balance)\n",
    "except InsufficientBalance as e:\n",
    "    print(\"Error:\", e)\n"
   ]
  }
 ],
 "metadata": {
  "language_info": {
   "name": "python"
  }
 },
 "nbformat": 4,
 "nbformat_minor": 5
}
