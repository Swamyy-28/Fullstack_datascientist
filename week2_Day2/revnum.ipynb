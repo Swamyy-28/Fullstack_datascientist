{
 "cells": [
  {
   "cell_type": "code",
   "execution_count": null,
   "id": "e0853c1a",
   "metadata": {},
   "outputs": [],
   "source": [
    "num = int(input(\"Enter a number: \"))\n",
    "rev = 0\n",
    "temp = num\n",
    "while temp > 0:\n",
    "    rev = rev * 10 + temp % 10\n",
    "    temp //= 10\n",
    "print(\"Reversed:\", rev)\n"
   ]
  }
 ],
 "metadata": {
  "language_info": {
   "name": "python"
  }
 },
 "nbformat": 4,
 "nbformat_minor": 5
}
