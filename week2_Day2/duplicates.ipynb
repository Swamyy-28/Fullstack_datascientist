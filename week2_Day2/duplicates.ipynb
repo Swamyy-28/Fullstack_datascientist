{
 "cells": [
  {
   "cell_type": "code",
   "execution_count": 1,
   "id": "df0e5b15",
   "metadata": {},
   "outputs": [
    {
     "name": "stdout",
     "output_type": "stream",
     "text": [
      "['ram']\n"
     ]
    }
   ],
   "source": [
    "def duplicate_names(names):\n",
    "    non_dup=set()\n",
    "    dup=set()\n",
    "    for name in names:\n",
    "        if name in non_dup:\n",
    "            dup.add(name)\n",
    "        else:\n",
    "            non_dup.add(name)\n",
    "    return list(dup)\n",
    "\n",
    "names=[\"ram\",\"raghu\",\"ram\"]\n",
    "print(duplicate_names(names))"
   ]
  }
 ],
 "metadata": {
  "kernelspec": {
   "display_name": "Python 3",
   "language": "python",
   "name": "python3"
  },
  "language_info": {
   "codemirror_mode": {
    "name": "ipython",
    "version": 3
   },
   "file_extension": ".py",
   "mimetype": "text/x-python",
   "name": "python",
   "nbconvert_exporter": "python",
   "pygments_lexer": "ipython3",
   "version": "3.11.0"
  }
 },
 "nbformat": 4,
 "nbformat_minor": 5
}
