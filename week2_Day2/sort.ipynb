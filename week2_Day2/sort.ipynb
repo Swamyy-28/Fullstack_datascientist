{
 "cells": [
  {
   "cell_type": "code",
   "execution_count": null,
   "id": "cf92ba3d",
   "metadata": {},
   "outputs": [],
   "source": [
    "names = [\"Ravi\", \"Anu\", \"Kiran\", \"Meena\"]\n",
    "names.sort()\n",
    "print(\"Sorted names:\", names)\n"
   ]
  }
 ],
 "metadata": {
  "language_info": {
   "name": "python"
  }
 },
 "nbformat": 4,
 "nbformat_minor": 5
}
