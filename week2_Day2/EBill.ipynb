{
 "cells": [
  {
   "cell_type": "code",
   "execution_count": 1,
   "id": "d24bd42e",
   "metadata": {},
   "outputs": [
    {
     "name": "stdout",
     "output_type": "stream",
     "text": [
      "Total Bill: ₹ 3200\n"
     ]
    }
   ],
   "source": [
    "def electricity_bill(units):\n",
    "    if units <= 100:\n",
    "        return units * 5\n",
    "    elif units <= 200:\n",
    "        return 100 * 5 + (units - 100) * 7\n",
    "    else:\n",
    "        return 100 * 5 + 100 * 7 + (units - 200) * 10\n",
    "\n",
    "u = int(input(\"Enter units consumed: \"))\n",
    "print(\"Total Bill: ₹\", electricity_bill(u))\n"
   ]
  }
 ],
 "metadata": {
  "kernelspec": {
   "display_name": "Python 3",
   "language": "python",
   "name": "python3"
  },
  "language_info": {
   "codemirror_mode": {
    "name": "ipython",
    "version": 3
   },
   "file_extension": ".py",
   "mimetype": "text/x-python",
   "name": "python",
   "nbconvert_exporter": "python",
   "pygments_lexer": "ipython3",
   "version": "3.11.0"
  }
 },
 "nbformat": 4,
 "nbformat_minor": 5
}
