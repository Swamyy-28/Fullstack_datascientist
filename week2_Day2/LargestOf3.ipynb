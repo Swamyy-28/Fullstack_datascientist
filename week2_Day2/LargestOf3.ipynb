{
 "cells": [
  {
   "cell_type": "code",
   "execution_count": null,
   "id": "6d9adfae",
   "metadata": {},
   "outputs": [],
   "source": [
    "def largest_of_three(a, b, c):\n",
    "    return max(a, b, c)\n",
    "print(\"Largest:\", largest_of_three(12, 25, 9))\n"
   ]
  }
 ],
 "metadata": {
  "language_info": {
   "name": "python"
  }
 },
 "nbformat": 4,
 "nbformat_minor": 5
}
