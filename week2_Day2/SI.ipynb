{
 "cells": [
  {
   "cell_type": "code",
   "execution_count": 1,
   "id": "0a8a63d0",
   "metadata": {},
   "outputs": [
    {
     "name": "stdout",
     "output_type": "stream",
     "text": [
      "Simple Intrest= 150.0\n"
     ]
    }
   ],
   "source": [
    "def SI(p,t,r):\n",
    "    si=(p*t*r)/100\n",
    "    return si\n",
    "p=int(input(\"Enter principle\"))\n",
    "t=int(input(\"Enter time\"))\n",
    "r=int(input(\"Enter rate of intrest\"))\n",
    "print(\"Simple Intrest=\",SI(p,t,r))\n"
   ]
  }
 ],
 "metadata": {
  "kernelspec": {
   "display_name": "Python 3",
   "language": "python",
   "name": "python3"
  },
  "language_info": {
   "codemirror_mode": {
    "name": "ipython",
    "version": 3
   },
   "file_extension": ".py",
   "mimetype": "text/x-python",
   "name": "python",
   "nbconvert_exporter": "python",
   "pygments_lexer": "ipython3",
   "version": "3.11.0"
  }
 },
 "nbformat": 4,
 "nbformat_minor": 5
}
