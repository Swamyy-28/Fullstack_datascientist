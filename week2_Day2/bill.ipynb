{
 "cells": [
  {
   "cell_type": "code",
   "execution_count": null,
   "id": "bcc76173",
   "metadata": {},
   "outputs": [],
   "source": [
    "def total_bill(items):\n",
    "    return sum(items.values())\n",
    "\n",
    "cart = {\"Milk\": 40, \"Bread\": 30, \"Eggs\": 60}\n",
    "print(\"Total Bill:\", total_bill(cart))\n"
   ]
  }
 ],
 "metadata": {
  "language_info": {
   "name": "python"
  }
 },
 "nbformat": 4,
 "nbformat_minor": 5
}
